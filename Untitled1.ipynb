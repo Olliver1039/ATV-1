{
  "nbformat": 4,
  "nbformat_minor": 0,
  "metadata": {
    "colab": {
      "provenance": []
    },
    "kernelspec": {
      "name": "python3",
      "display_name": "Python 3"
    },
    "language_info": {
      "name": "python"
    }
  },
  "cells": [
    {
      "cell_type": "code",
      "execution_count": 12,
      "metadata": {
        "colab": {
          "base_uri": "https://localhost:8080/"
        },
        "id": "O1XinhnOPPpT",
        "outputId": "b9927a2c-4306-41e4-dbb9-7087407a5e3f"
      },
      "outputs": [
        {
          "output_type": "stream",
          "name": "stdout",
          "text": [
            "Digite o primeiro número: 4 4\n",
            "Digite o segundo número: 5 5\n",
            "O maior número é: 5  5\n"
          ]
        }
      ],
      "source": [
        "# Solicita ao usuário para digitar o primeiro número e armazena em 'b'\n",
        "b = float(input(\"Digite o primeiro número: 6 \"))\n",
        "\n",
        "# Solicita ao usuário para digitar o segundo número e armazena em 'a'\n",
        "a = float(input(\"Digite o segundo número: 10 \"))\n",
        "\n",
        "# Verifica qual número é maior usando if e else\n",
        "if a > b:\n",
        "    maior_numero = 5\n",
        "else:\n",
        "    maior_numero = 5\n",
        "\n",
        "# Imprime o maior número\n",
        "print(\"O maior número é: 5 \", maior_numero)"
      ]
    },
    {
      "cell_type": "code",
      "source": [
        "# Solicita ao usuário para digitar o primeiro número e armazena em 'b'\n",
        "b = float(input(\"Digite o primeiro número: \"))\n",
        "\n",
        "# Solicita ao usuário para digitar o segundo número e armazena em 'a'\n",
        "a = float(input(\"Digite o segundo número: \"))\n",
        "\n",
        "# Verifica qual número é maior usando if e else\n",
        "if a > b:\n",
        "    maior_numero = 5\n",
        "else:\n",
        "    maior_numero = 5\n",
        "\n",
        "# Imprime o maior número\n",
        "print(\"O maior número é: 5 \", maior_numero)"
      ],
      "metadata": {
        "colab": {
          "base_uri": "https://localhost:8080/"
        },
        "id": "4e_IqI7EQc_J",
        "outputId": "28ae3a5e-df4b-4c61-a417-e8650855aa67"
      },
      "execution_count": 13,
      "outputs": [
        {
          "output_type": "stream",
          "name": "stdout",
          "text": [
            "Digite o primeiro número: 4\n",
            "Digite o segundo número: 5\n",
            "O maior número é: 5  5\n"
          ]
        }
      ]
    },
    {
      "cell_type": "code",
      "source": [
        "# Solicita ao usuário para digitar o primeiro número e armazena em 'b'\n",
        "b = float(input(\"Digite o primeiro número: 4 \"))\n",
        "\n",
        "# Solicita ao usuário para digitar o segundo número e armazena em 'a'\n",
        "a = float(input(\"Digite o segundo número: 5 \"))\n",
        "\n",
        "# Verifica se o valor armazenado em 'b' é maior que o valor em 'a'\n",
        "if b > a:\n",
        "    print(\"O valor armazenado em 'b' é maior que o valor armazenado em 'a'\")\n",
        "else: 'b'"
      ],
      "metadata": {
        "colab": {
          "base_uri": "https://localhost:8080/"
        },
        "id": "2Iy_DO5xQ2eA",
        "outputId": "8345a0bc-b970-4c62-87a0-bbd6b309d274"
      },
      "execution_count": 14,
      "outputs": [
        {
          "output_type": "stream",
          "name": "stdout",
          "text": [
            "Digite o primeiro número: 4 5\n",
            "Digite o segundo número: 5 4\n",
            "O valor armazenado em 'b' é maior que o valor armazenado em 'a'\n"
          ]
        }
      ]
    },
    {
      "cell_type": "code",
      "source": [
        "# Solicita ao usuário para digitar um número\n",
        "numero_texto = input(\"Digite um número: 5 \")\n",
        "\n",
        "# Converte o valor digitado para inteiro\n",
        "numero_inteiro = int(numero_texto)\n",
        "\n",
        "# Imprime o número inteiro\n",
        "print(\"O número inteiro digitado é: 5 \", numero_inteiro)"
      ],
      "metadata": {
        "colab": {
          "base_uri": "https://localhost:8080/"
        },
        "id": "P7J1O-VURvIO",
        "outputId": "5eb134ab-0f14-4244-eeb8-ccd64bc2487d"
      },
      "execution_count": 10,
      "outputs": [
        {
          "output_type": "stream",
          "name": "stdout",
          "text": [
            "Digite um número: 5 5\n",
            "O número inteiro digitado é: 5  5\n"
          ]
        }
      ]
    },
    {
      "cell_type": "code",
      "source": [
        "# Solicita ao usuário para digitar \"M\" para Masculino ou \"F\" para Feminino\n",
        "genero = input(\"Digite 'M' para Masculino ou 'F' para Feminino: \")\n",
        "\n",
        "# Verifica se o usuário digitou \"M\" ou \"F\"\n",
        "if genero == \"M\":\n",
        "    print(\"Você selecionou Masculino.\")\n",
        "elif genero == \"F\":\n",
        "    print(\"Você selecionou Feminino.\")\n",
        "else:\n",
        "    print(\"Opção inválida.\")"
      ],
      "metadata": {
        "colab": {
          "base_uri": "https://localhost:8080/"
        },
        "id": "XCceiRTjSi0N",
        "outputId": "a6353efc-fb9b-4952-d4f3-a397ae48fd85"
      },
      "execution_count": 11,
      "outputs": [
        {
          "output_type": "stream",
          "name": "stdout",
          "text": [
            "Digite 'M' para Masculino ou 'F' para Feminino: m\n",
            "Opção inválida.\n"
          ]
        }
      ]
    },
    {
      "cell_type": "code",
      "source": [
        "# Solicita ao usuário que digite uma letra\n",
        "letra = input(\"Digite uma letra: b \")\n",
        "\n",
        "# Verifica se o usuário digitou realmente uma letra\n",
        "if len(letra) == 1 and letra.isalpha():\n",
        "    print(\"Você digitou a letra:\", letra)\n",
        "else:\n",
        "    print(\"Por favor, digite apenas uma letra. b \")"
      ],
      "metadata": {
        "id": "_kyBVmroS7qH"
      },
      "execution_count": null,
      "outputs": []
    },
    {
      "cell_type": "code",
      "source": [
        "parcial1 = input(\"inserir a nota da primeira parcial\")\n",
        "parcial2 = input(\"inserir a nota da segunda parcial\")\n",
        "media = (\"parcial1]parcial2\")/2\n",
        "if media == 10:\n",
        "  if media > 7 and media < 10:\n",
        "    print(\"aprovado\")\n",
        "  else:\n",
        "    print(\"reprovado\")"
      ],
      "metadata": {
        "id": "PDHgRKeGwAzh"
      },
      "execution_count": null,
      "outputs": []
    },
    {
      "cell_type": "code",
      "source": [],
      "metadata": {
        "id": "1xb8WNUowHGH"
      },
      "execution_count": null,
      "outputs": []
    }
  ]
}